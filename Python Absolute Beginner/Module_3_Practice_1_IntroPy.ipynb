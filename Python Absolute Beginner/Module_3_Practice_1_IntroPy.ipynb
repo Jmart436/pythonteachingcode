{
 "cells": [
  {
   "cell_type": "markdown",
   "metadata": {},
   "source": [
    "# 1-4.3 Intro Python Practice\n",
    "## Conditionals \n",
    "<font size=\"5\" color=\"#00A0B2\"  face=\"verdana\"> <B>Student will be able to</B></font>  \n",
    "- **control code flow with `if`... `else` conditional logic**  \n",
    "  - using Boolean string methods (`.isupper(), .isalpha(), .startswith()...`)  \n",
    "  - using comparision (`>, <, >=, <=, ==, !=`)  \n",
    "  - using Strings in comparisons  "
   ]
  },
  {
   "cell_type": "markdown",
   "metadata": {},
   "source": [
    "## `if else`\n"
   ]
  },
  {
   "cell_type": "code",
   "execution_count": 1,
   "metadata": {},
   "outputs": [
    {
     "name": "stdout",
     "output_type": "stream",
     "text": [
      "Tell me your age in years as an integer: 19\n",
      "Your age in 10 years will be:  29\n"
     ]
    }
   ],
   "source": [
    "# [ ] input avariable: age as digit and cast to int\n",
    "# if age greater than or equal to 12 then print message on age in 10 years \n",
    "# or else print message \"It is good to be\" age\n",
    "age = input(\"Tell me your age in years as an integer: \")\n",
    "age = int(age)\n",
    "if age >= 12:\n",
    "    print(\"Your age in 10 years will be: \",age+10)\n",
    "else:\n",
    "    print(\"It is good to be\", str(age)+\".\")\n",
    "\n",
    "\n",
    "\n",
    "\n"
   ]
  },
  {
   "cell_type": "code",
   "execution_count": 21,
   "metadata": {},
   "outputs": [
    {
     "name": "stdout",
     "output_type": "stream",
     "text": [
      "Give me a number: 88\n",
      "Greter than 100 is  False\n"
     ]
    }
   ],
   "source": [
    "# [ ] input a number \n",
    "# if number IS a digit string then cast to int\n",
    "# print number \"greater than 100 is\" True/False\n",
    "# if number is NOT a digit string then message the user that \"only int is accepted\"\n",
    "number_1 = int(input (\"Give me a number: \"))\n",
    "if number_1 >= 100:\n",
    "    print(\"Greater than 100 is \", number_1>=100)\n",
    "elif number_1 <=100:\n",
    "    print(\"Greter than 100 is \", number_1>=100)\n",
    "else:\n",
    "    print(\"Only int is accepted\")\n",
    "\n",
    "    \n",
    "\n",
    "\n",
    "\n"
   ]
  },
  {
   "cell_type": "markdown",
   "metadata": {},
   "source": [
    "### Guessing a letter A-Z  \n",
    "**check_guess()** takes 2 string arguments: **letter and guess** (both expect single alphabetical character)   \n",
    "    - if guess is not an alpha character print invalid and return False\n",
    "    - test and print if guess is \"high\" or \"low\" and return False\n",
    "    - test and print if guess is \"correct\" and return True"
   ]
  },
  {
   "cell_type": "code",
   "execution_count": 21,
   "metadata": {},
   "outputs": [
    {
     "name": "stdout",
     "output_type": "stream",
     "text": [
      "Guess a letter: d\n",
      "Your answer is  Too high\n"
     ]
    }
   ],
   "source": [
    "# [ ] create check_guess()\n",
    "# call with test\n",
    "\n",
    "def check_guess(letter, guess):\n",
    "    letter = \"Q\"\n",
    "    guess = input(\"Guess a letter: \")\n",
    "    if guess == letter.upper():\n",
    "        return(\"Correct!\")\n",
    "    elif guess>= letter.upper():\n",
    "        return(\"Too high\")\n",
    "    elif guess<= letter.upper():\n",
    "        return(\"Too low\")\n",
    "    else:\n",
    "        return(\"Letters only, please.\")\n",
    "letter_guess = check_guess(letter,guess)\n",
    "print(\"Your answer is \", letter_guess)\n",
    "    \n"
   ]
  },
  {
   "cell_type": "code",
   "execution_count": 23,
   "metadata": {},
   "outputs": [
    {
     "name": "stdout",
     "output_type": "stream",
     "text": [
      "Guess a letter: Q\n",
      "Your answer is  Correct!\n"
     ]
    }
   ],
   "source": [
    "# [ ] call check_guess with user input\n",
    "\n",
    "def check_guess(letter, guess):\n",
    "    letter = \"Q\"\n",
    "    guess = input(\"Guess a letter: \")\n",
    "    if guess == letter.upper():\n",
    "        return(\"Correct!\")\n",
    "    elif guess>= letter.upper():\n",
    "        return(\"Too high\")\n",
    "    elif guess<= letter.upper():\n",
    "        return(\"Too low\")\n",
    "    else:\n",
    "        return(\"Letters only, please.\")\n",
    "letter_guess = check_guess(letter,guess)\n",
    "print(\"Your answer is \", letter_guess)\n",
    "    "
   ]
  },
  {
   "cell_type": "markdown",
   "metadata": {},
   "source": [
    "### Letter Guess\n",
    "**create letter_guess() function that gives user 3 guesses**\n",
    "- takes a letter character argument for the answer letter\n",
    "- gets user input for letter guess  \n",
    "- calls check_guess() with answer and guess\n",
    "- End letter_guess if \n",
    "    - check_guess() equals True, return True  \n",
    "    - or after 3 failed attempts, return False"
   ]
  },
  {
   "cell_type": "code",
   "execution_count": 38,
   "metadata": {},
   "outputs": [
    {
     "name": "stdout",
     "output_type": "stream",
     "text": [
      "Guess a letter: g\n",
      "Guess is too low\n"
     ]
    }
   ],
   "source": [
    "# [ ] create letter_guess() function, call the function to test\n",
    "def letter_guess(letter,guess,count):\n",
    "    if count <= 3:\n",
    "        count + 1\n",
    "        if guess.upper() >= letter.upper():\n",
    "            print(\"Guess is too high\")\n",
    "            count + 1\n",
    "            \n",
    "        elif guess.upper() <= letter.upper():\n",
    "            print(\"Guess is too low\")\n",
    "            count + 1\n",
    "           \n",
    "        elif guess.upper() == letter.upper():\n",
    "            print(\"Guess is correct\")\n",
    "            count + 1\n",
    "          \n",
    "        \n",
    "        elif count == 1:\n",
    "            print(\"2 more tries\")\n",
    "        elif count == 2:\n",
    "            print(\"1 more try\")\n",
    "        elif count == 3:\n",
    "            print(\"game over \")\n",
    "    \n",
    "letter = \"Q\"\n",
    "guess = input(\"Guess a letter: \")\n",
    "count = 1\n",
    "letter_guess(letter,guess,count)\n",
    "    \n",
    "\n"
   ]
  },
  {
   "cell_type": "markdown",
   "metadata": {},
   "source": [
    "### Pet Conversation\n",
    "**ask the user for a sentence about a pet and then reply**  \n",
    "- get user input in variable: about_pet\n",
    "- using a series of **if** statements respond with appropriate conversation\n",
    "  - check if \"dog\" is in the string about_pet (sample reply \"Ah, a dog\")\n",
    "  - check if \"cat\" is in the string about_pet\n",
    "  - check if 1 or more animal is in string about_pet\n",
    "- no need for **else**'s\n",
    "- finish with thanking for the story"
   ]
  },
  {
   "cell_type": "code",
   "execution_count": 42,
   "metadata": {},
   "outputs": [
    {
     "name": "stdout",
     "output_type": "stream",
     "text": [
      "Tell me about your pet:i have a cat\n",
      "Ah, a cat. I personally do not like cats.\n",
      "Thank you for your story\n"
     ]
    }
   ],
   "source": [
    "# [ ] complete pet conversation\n",
    "about_pet = input(\"Tell me about your pet:\")\n",
    "if \"dog\" in about_pet:\n",
    "    print(\"Ah, a dog\")\n",
    "elif \"cat\" in about_pet:\n",
    "    print(\"Ah, a cat. I personally do not like cats.\")\n",
    "elif \"snake\" in about_pet:\n",
    "    print(\"Ew, snakes.\")\n",
    "else:\n",
    "    pass\n",
    "print(\"Thank you for your story\")\n",
    "\n"
   ]
  },
  {
   "cell_type": "markdown",
   "metadata": {
    "collapsed": true
   },
   "source": [
    "[Terms of use](http://go.microsoft.com/fwlink/?LinkID=206977) &nbsp; [Privacy & cookies](https://go.microsoft.com/fwlink/?LinkId=521839) &nbsp; © 2017 Microsoft"
   ]
  }
 ],
 "metadata": {
  "anaconda-cloud": {},
  "kernelspec": {
   "display_name": "Python 3",
   "language": "python",
   "name": "python3"
  },
  "language_info": {
   "codemirror_mode": {
    "name": "ipython",
    "version": 3
   },
   "file_extension": ".py",
   "mimetype": "text/x-python",
   "name": "python",
   "nbconvert_exporter": "python",
   "pygments_lexer": "ipython3",
   "version": "3.8.5"
  }
 },
 "nbformat": 4,
 "nbformat_minor": 1
}
